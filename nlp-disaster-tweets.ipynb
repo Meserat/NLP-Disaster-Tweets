{
 "cells": [
  {
   "cell_type": "code",
   "execution_count": 1,
   "id": "271ccf3e",
   "metadata": {
    "_cell_guid": "b1076dfc-b9ad-4769-8c92-a6c4dae69d19",
    "_uuid": "8f2839f25d086af736a60e9eeb907d3b93b6e0e5",
    "execution": {
     "iopub.execute_input": "2023-08-14T13:35:41.426899Z",
     "iopub.status.busy": "2023-08-14T13:35:41.426397Z",
     "iopub.status.idle": "2023-08-14T13:35:45.058505Z",
     "shell.execute_reply": "2023-08-14T13:35:45.057100Z"
    },
    "papermill": {
     "duration": 3.652437,
     "end_time": "2023-08-14T13:35:45.061587",
     "exception": false,
     "start_time": "2023-08-14T13:35:41.409150",
     "status": "completed"
    },
    "tags": []
   },
   "outputs": [
    {
     "name": "stderr",
     "output_type": "stream",
     "text": [
      "/opt/conda/lib/python3.10/site-packages/scipy/__init__.py:146: UserWarning: A NumPy version >=1.16.5 and <1.23.0 is required for this version of SciPy (detected version 1.23.5\n",
      "  warnings.warn(f\"A NumPy version >={np_minversion} and <{np_maxversion}\"\n"
     ]
    }
   ],
   "source": [
    "# Import libraries\n",
    "import numpy as np\n",
    "import pandas as pd\n",
    "import matplotlib.pyplot as plt\n",
    "import seaborn as sns\n",
    "import numpy as np\n",
    "import seaborn as sns\n",
    "import matplotlib.pyplot as plt\n",
    "from sklearn.model_selection import train_test_split\n",
    "from sklearn.linear_model import LogisticRegression\n",
    "from sklearn.ensemble import RandomForestClassifier\n",
    "from sklearn.feature_extraction.text import TfidfVectorizer\n",
    "from sklearn.naive_bayes import MultinomialNB\n",
    "from sklearn.metrics import accuracy_score, classification_report\n",
    "from sklearn.model_selection import train_test_split\n",
    "from sklearn.pipeline import Pipeline,make_pipeline\n",
    "from nltk.corpus import stopwords\n",
    "from nltk.tokenize import word_tokenize\n",
    "from nltk.stem import PorterStemmer\n",
    "from sklearn import metrics\n",
    "import plotly.express as px\n",
    "import re\n",
    "from wordcloud import WordCloud \n"
   ]
  },
  {
   "cell_type": "markdown",
   "id": "a9d1f7da",
   "metadata": {
    "papermill": {
     "duration": 0.012363,
     "end_time": "2023-08-14T13:35:45.088089",
     "exception": false,
     "start_time": "2023-08-14T13:35:45.075726",
     "status": "completed"
    },
    "tags": []
   },
   "source": [
    "##  Reading and preparation of data"
   ]
  },
  {
   "cell_type": "code",
   "execution_count": 2,
   "id": "c1dffe3f",
   "metadata": {
    "execution": {
     "iopub.execute_input": "2023-08-14T13:35:45.114462Z",
     "iopub.status.busy": "2023-08-14T13:35:45.114019Z",
     "iopub.status.idle": "2023-08-14T13:35:45.123570Z",
     "shell.execute_reply": "2023-08-14T13:35:45.122105Z"
    },
    "papermill": {
     "duration": 0.025709,
     "end_time": "2023-08-14T13:35:45.126049",
     "exception": false,
     "start_time": "2023-08-14T13:35:45.100340",
     "status": "completed"
    },
    "tags": []
   },
   "outputs": [
    {
     "name": "stdout",
     "output_type": "stream",
     "text": [
      "/kaggle/input/nlp-getting-started/sample_submission.csv\n",
      "/kaggle/input/nlp-getting-started/train.csv\n",
      "/kaggle/input/nlp-getting-started/test.csv\n"
     ]
    }
   ],
   "source": [
    "# This Python 3 environment comes with many helpful analytics libraries installed\n",
    "# It is defined by the kaggle/python Docker image: https://github.com/kaggle/docker-python\n",
    "# For example, here's several helpful packages to load\n",
    "\n",
    "import numpy as np # linear algebra\n",
    "import pandas as pd # data processing, CSV file I/O (e.g. pd.read_csv)\n",
    "\n",
    "# Input data files are available in the read-only \"../input/\" directory\n",
    "# For example, running this (by clicking run or pressing Shift+Enter) will list all files under the input directory\n",
    "\n",
    "import os\n",
    "for dirname, _, filenames in os.walk('/kaggle/input'):\n",
    "    for filename in filenames:\n",
    "        print(os.path.join(dirname, filename))\n",
    "\n",
    "# You can write up to 20GB to the current directory (/kaggle/working/) that gets preserved as output when you create a version using \"Save & Run All\" \n",
    "# You can also write temporary files to /kaggle/temp/, but they won't be saved outside of the current session"
   ]
  },
  {
   "cell_type": "code",
   "execution_count": 3,
   "id": "48b5ce32",
   "metadata": {
    "execution": {
     "iopub.execute_input": "2023-08-14T13:35:45.152721Z",
     "iopub.status.busy": "2023-08-14T13:35:45.152287Z",
     "iopub.status.idle": "2023-08-14T13:35:45.255905Z",
     "shell.execute_reply": "2023-08-14T13:35:45.254454Z"
    },
    "papermill": {
     "duration": 0.120936,
     "end_time": "2023-08-14T13:35:45.259342",
     "exception": false,
     "start_time": "2023-08-14T13:35:45.138406",
     "status": "completed"
    },
    "tags": []
   },
   "outputs": [],
   "source": [
    "# Load data\n",
    "train_data = pd.read_csv(\"/kaggle/input/nlp-getting-started/train.csv\")\n",
    "test_data = pd.read_csv(\"/kaggle/input/nlp-getting-started/test.csv\")\n",
    "sub_sample = pd.read_csv(\"/kaggle/input/nlp-getting-started/sample_submission.csv\")\n",
    "\n"
   ]
  },
  {
   "cell_type": "code",
   "execution_count": 4,
   "id": "0a693429",
   "metadata": {
    "execution": {
     "iopub.execute_input": "2023-08-14T13:35:45.286298Z",
     "iopub.status.busy": "2023-08-14T13:35:45.285885Z",
     "iopub.status.idle": "2023-08-14T13:35:45.292296Z",
     "shell.execute_reply": "2023-08-14T13:35:45.291021Z"
    },
    "papermill": {
     "duration": 0.023973,
     "end_time": "2023-08-14T13:35:45.295904",
     "exception": false,
     "start_time": "2023-08-14T13:35:45.271931",
     "status": "completed"
    },
    "tags": []
   },
   "outputs": [
    {
     "name": "stdout",
     "output_type": "stream",
     "text": [
      "Train data : (7613, 5)\n",
      "Test data : (3263, 4)\n",
      "Sample data : (7613, 5)\n"
     ]
    }
   ],
   "source": [
    "# Print shape of data\n",
    "print (\"Train data :\",train_data.shape)\n",
    "print (\"Test data :\",test_data.shape)\n",
    "print (\"Sample data :\",train_data.shape)"
   ]
  },
  {
   "cell_type": "markdown",
   "id": "a7ae3273",
   "metadata": {
    "papermill": {
     "duration": 0.012282,
     "end_time": "2023-08-14T13:35:45.322757",
     "exception": false,
     "start_time": "2023-08-14T13:35:45.310475",
     "status": "completed"
    },
    "tags": []
   },
   "source": [
    "### Data visualization"
   ]
  },
  {
   "cell_type": "code",
   "execution_count": 5,
   "id": "8068bc36",
   "metadata": {
    "execution": {
     "iopub.execute_input": "2023-08-14T13:35:45.349755Z",
     "iopub.status.busy": "2023-08-14T13:35:45.349099Z",
     "iopub.status.idle": "2023-08-14T13:35:45.370649Z",
     "shell.execute_reply": "2023-08-14T13:35:45.369836Z"
    },
    "papermill": {
     "duration": 0.037734,
     "end_time": "2023-08-14T13:35:45.372939",
     "exception": false,
     "start_time": "2023-08-14T13:35:45.335205",
     "status": "completed"
    },
    "tags": []
   },
   "outputs": [
    {
     "data": {
      "text/html": [
       "<div>\n",
       "<style scoped>\n",
       "    .dataframe tbody tr th:only-of-type {\n",
       "        vertical-align: middle;\n",
       "    }\n",
       "\n",
       "    .dataframe tbody tr th {\n",
       "        vertical-align: top;\n",
       "    }\n",
       "\n",
       "    .dataframe thead th {\n",
       "        text-align: right;\n",
       "    }\n",
       "</style>\n",
       "<table border=\"1\" class=\"dataframe\">\n",
       "  <thead>\n",
       "    <tr style=\"text-align: right;\">\n",
       "      <th></th>\n",
       "      <th>id</th>\n",
       "      <th>keyword</th>\n",
       "      <th>location</th>\n",
       "      <th>text</th>\n",
       "      <th>target</th>\n",
       "    </tr>\n",
       "  </thead>\n",
       "  <tbody>\n",
       "    <tr>\n",
       "      <th>0</th>\n",
       "      <td>1</td>\n",
       "      <td>NaN</td>\n",
       "      <td>NaN</td>\n",
       "      <td>Our Deeds are the Reason of this #earthquake M...</td>\n",
       "      <td>1</td>\n",
       "    </tr>\n",
       "    <tr>\n",
       "      <th>1</th>\n",
       "      <td>4</td>\n",
       "      <td>NaN</td>\n",
       "      <td>NaN</td>\n",
       "      <td>Forest fire near La Ronge Sask. Canada</td>\n",
       "      <td>1</td>\n",
       "    </tr>\n",
       "    <tr>\n",
       "      <th>2</th>\n",
       "      <td>5</td>\n",
       "      <td>NaN</td>\n",
       "      <td>NaN</td>\n",
       "      <td>All residents asked to 'shelter in place' are ...</td>\n",
       "      <td>1</td>\n",
       "    </tr>\n",
       "    <tr>\n",
       "      <th>3</th>\n",
       "      <td>6</td>\n",
       "      <td>NaN</td>\n",
       "      <td>NaN</td>\n",
       "      <td>13,000 people receive #wildfires evacuation or...</td>\n",
       "      <td>1</td>\n",
       "    </tr>\n",
       "    <tr>\n",
       "      <th>4</th>\n",
       "      <td>7</td>\n",
       "      <td>NaN</td>\n",
       "      <td>NaN</td>\n",
       "      <td>Just got sent this photo from Ruby #Alaska as ...</td>\n",
       "      <td>1</td>\n",
       "    </tr>\n",
       "    <tr>\n",
       "      <th>5</th>\n",
       "      <td>8</td>\n",
       "      <td>NaN</td>\n",
       "      <td>NaN</td>\n",
       "      <td>#RockyFire Update =&gt; California Hwy. 20 closed...</td>\n",
       "      <td>1</td>\n",
       "    </tr>\n",
       "    <tr>\n",
       "      <th>6</th>\n",
       "      <td>10</td>\n",
       "      <td>NaN</td>\n",
       "      <td>NaN</td>\n",
       "      <td>#flood #disaster Heavy rain causes flash flood...</td>\n",
       "      <td>1</td>\n",
       "    </tr>\n",
       "    <tr>\n",
       "      <th>7</th>\n",
       "      <td>13</td>\n",
       "      <td>NaN</td>\n",
       "      <td>NaN</td>\n",
       "      <td>I'm on top of the hill and I can see a fire in...</td>\n",
       "      <td>1</td>\n",
       "    </tr>\n",
       "    <tr>\n",
       "      <th>8</th>\n",
       "      <td>14</td>\n",
       "      <td>NaN</td>\n",
       "      <td>NaN</td>\n",
       "      <td>There's an emergency evacuation happening now ...</td>\n",
       "      <td>1</td>\n",
       "    </tr>\n",
       "    <tr>\n",
       "      <th>9</th>\n",
       "      <td>15</td>\n",
       "      <td>NaN</td>\n",
       "      <td>NaN</td>\n",
       "      <td>I'm afraid that the tornado is coming to our a...</td>\n",
       "      <td>1</td>\n",
       "    </tr>\n",
       "  </tbody>\n",
       "</table>\n",
       "</div>"
      ],
      "text/plain": [
       "   id keyword location                                               text  \\\n",
       "0   1     NaN      NaN  Our Deeds are the Reason of this #earthquake M...   \n",
       "1   4     NaN      NaN             Forest fire near La Ronge Sask. Canada   \n",
       "2   5     NaN      NaN  All residents asked to 'shelter in place' are ...   \n",
       "3   6     NaN      NaN  13,000 people receive #wildfires evacuation or...   \n",
       "4   7     NaN      NaN  Just got sent this photo from Ruby #Alaska as ...   \n",
       "5   8     NaN      NaN  #RockyFire Update => California Hwy. 20 closed...   \n",
       "6  10     NaN      NaN  #flood #disaster Heavy rain causes flash flood...   \n",
       "7  13     NaN      NaN  I'm on top of the hill and I can see a fire in...   \n",
       "8  14     NaN      NaN  There's an emergency evacuation happening now ...   \n",
       "9  15     NaN      NaN  I'm afraid that the tornado is coming to our a...   \n",
       "\n",
       "   target  \n",
       "0       1  \n",
       "1       1  \n",
       "2       1  \n",
       "3       1  \n",
       "4       1  \n",
       "5       1  \n",
       "6       1  \n",
       "7       1  \n",
       "8       1  \n",
       "9       1  "
      ]
     },
     "execution_count": 5,
     "metadata": {},
     "output_type": "execute_result"
    }
   ],
   "source": [
    "# display first 10 rows of the data\n",
    "train_data.head(10)"
   ]
  },
  {
   "cell_type": "code",
   "execution_count": 6,
   "id": "68b99b0d",
   "metadata": {
    "execution": {
     "iopub.execute_input": "2023-08-14T13:35:45.401463Z",
     "iopub.status.busy": "2023-08-14T13:35:45.400761Z",
     "iopub.status.idle": "2023-08-14T13:35:45.413446Z",
     "shell.execute_reply": "2023-08-14T13:35:45.412213Z"
    },
    "papermill": {
     "duration": 0.030155,
     "end_time": "2023-08-14T13:35:45.416019",
     "exception": false,
     "start_time": "2023-08-14T13:35:45.385864",
     "status": "completed"
    },
    "tags": []
   },
   "outputs": [
    {
     "data": {
      "text/html": [
       "<div>\n",
       "<style scoped>\n",
       "    .dataframe tbody tr th:only-of-type {\n",
       "        vertical-align: middle;\n",
       "    }\n",
       "\n",
       "    .dataframe tbody tr th {\n",
       "        vertical-align: top;\n",
       "    }\n",
       "\n",
       "    .dataframe thead th {\n",
       "        text-align: right;\n",
       "    }\n",
       "</style>\n",
       "<table border=\"1\" class=\"dataframe\">\n",
       "  <thead>\n",
       "    <tr style=\"text-align: right;\">\n",
       "      <th></th>\n",
       "      <th>id</th>\n",
       "      <th>keyword</th>\n",
       "      <th>location</th>\n",
       "      <th>text</th>\n",
       "    </tr>\n",
       "  </thead>\n",
       "  <tbody>\n",
       "    <tr>\n",
       "      <th>0</th>\n",
       "      <td>0</td>\n",
       "      <td>NaN</td>\n",
       "      <td>NaN</td>\n",
       "      <td>Just happened a terrible car crash</td>\n",
       "    </tr>\n",
       "    <tr>\n",
       "      <th>1</th>\n",
       "      <td>2</td>\n",
       "      <td>NaN</td>\n",
       "      <td>NaN</td>\n",
       "      <td>Heard about #earthquake is different cities, s...</td>\n",
       "    </tr>\n",
       "    <tr>\n",
       "      <th>2</th>\n",
       "      <td>3</td>\n",
       "      <td>NaN</td>\n",
       "      <td>NaN</td>\n",
       "      <td>there is a forest fire at spot pond, geese are...</td>\n",
       "    </tr>\n",
       "    <tr>\n",
       "      <th>3</th>\n",
       "      <td>9</td>\n",
       "      <td>NaN</td>\n",
       "      <td>NaN</td>\n",
       "      <td>Apocalypse lighting. #Spokane #wildfires</td>\n",
       "    </tr>\n",
       "    <tr>\n",
       "      <th>4</th>\n",
       "      <td>11</td>\n",
       "      <td>NaN</td>\n",
       "      <td>NaN</td>\n",
       "      <td>Typhoon Soudelor kills 28 in China and Taiwan</td>\n",
       "    </tr>\n",
       "    <tr>\n",
       "      <th>5</th>\n",
       "      <td>12</td>\n",
       "      <td>NaN</td>\n",
       "      <td>NaN</td>\n",
       "      <td>We're shaking...It's an earthquake</td>\n",
       "    </tr>\n",
       "    <tr>\n",
       "      <th>6</th>\n",
       "      <td>21</td>\n",
       "      <td>NaN</td>\n",
       "      <td>NaN</td>\n",
       "      <td>They'd probably still show more life than Arse...</td>\n",
       "    </tr>\n",
       "    <tr>\n",
       "      <th>7</th>\n",
       "      <td>22</td>\n",
       "      <td>NaN</td>\n",
       "      <td>NaN</td>\n",
       "      <td>Hey! How are you?</td>\n",
       "    </tr>\n",
       "    <tr>\n",
       "      <th>8</th>\n",
       "      <td>27</td>\n",
       "      <td>NaN</td>\n",
       "      <td>NaN</td>\n",
       "      <td>What a nice hat?</td>\n",
       "    </tr>\n",
       "    <tr>\n",
       "      <th>9</th>\n",
       "      <td>29</td>\n",
       "      <td>NaN</td>\n",
       "      <td>NaN</td>\n",
       "      <td>Fuck off!</td>\n",
       "    </tr>\n",
       "  </tbody>\n",
       "</table>\n",
       "</div>"
      ],
      "text/plain": [
       "   id keyword location                                               text\n",
       "0   0     NaN      NaN                 Just happened a terrible car crash\n",
       "1   2     NaN      NaN  Heard about #earthquake is different cities, s...\n",
       "2   3     NaN      NaN  there is a forest fire at spot pond, geese are...\n",
       "3   9     NaN      NaN           Apocalypse lighting. #Spokane #wildfires\n",
       "4  11     NaN      NaN      Typhoon Soudelor kills 28 in China and Taiwan\n",
       "5  12     NaN      NaN                 We're shaking...It's an earthquake\n",
       "6  21     NaN      NaN  They'd probably still show more life than Arse...\n",
       "7  22     NaN      NaN                                  Hey! How are you?\n",
       "8  27     NaN      NaN                                   What a nice hat?\n",
       "9  29     NaN      NaN                                          Fuck off!"
      ]
     },
     "execution_count": 6,
     "metadata": {},
     "output_type": "execute_result"
    }
   ],
   "source": [
    "test_data.head(10)"
   ]
  },
  {
   "cell_type": "code",
   "execution_count": 7,
   "id": "f16d7e30",
   "metadata": {
    "execution": {
     "iopub.execute_input": "2023-08-14T13:35:45.445479Z",
     "iopub.status.busy": "2023-08-14T13:35:45.445066Z",
     "iopub.status.idle": "2023-08-14T13:35:45.479970Z",
     "shell.execute_reply": "2023-08-14T13:35:45.478373Z"
    },
    "papermill": {
     "duration": 0.052702,
     "end_time": "2023-08-14T13:35:45.482518",
     "exception": false,
     "start_time": "2023-08-14T13:35:45.429816",
     "status": "completed"
    },
    "tags": []
   },
   "outputs": [
    {
     "name": "stdout",
     "output_type": "stream",
     "text": [
      "<class 'pandas.core.frame.DataFrame'>\n",
      "RangeIndex: 7613 entries, 0 to 7612\n",
      "Data columns (total 5 columns):\n",
      " #   Column    Non-Null Count  Dtype \n",
      "---  ------    --------------  ----- \n",
      " 0   id        7613 non-null   int64 \n",
      " 1   keyword   7552 non-null   object\n",
      " 2   location  5080 non-null   object\n",
      " 3   text      7613 non-null   object\n",
      " 4   target    7613 non-null   int64 \n",
      "dtypes: int64(2), object(3)\n",
      "memory usage: 297.5+ KB\n"
     ]
    }
   ],
   "source": [
    "#Print a concise summary of a data\n",
    "train_data.info()"
   ]
  },
  {
   "cell_type": "code",
   "execution_count": 8,
   "id": "0c2da4a9",
   "metadata": {
    "execution": {
     "iopub.execute_input": "2023-08-14T13:35:45.511061Z",
     "iopub.status.busy": "2023-08-14T13:35:45.510609Z",
     "iopub.status.idle": "2023-08-14T13:35:45.526350Z",
     "shell.execute_reply": "2023-08-14T13:35:45.525236Z"
    },
    "papermill": {
     "duration": 0.032822,
     "end_time": "2023-08-14T13:35:45.528877",
     "exception": false,
     "start_time": "2023-08-14T13:35:45.496055",
     "status": "completed"
    },
    "tags": []
   },
   "outputs": [
    {
     "name": "stdout",
     "output_type": "stream",
     "text": [
      "<class 'pandas.core.frame.DataFrame'>\n",
      "RangeIndex: 3263 entries, 0 to 3262\n",
      "Data columns (total 4 columns):\n",
      " #   Column    Non-Null Count  Dtype \n",
      "---  ------    --------------  ----- \n",
      " 0   id        3263 non-null   int64 \n",
      " 1   keyword   3237 non-null   object\n",
      " 2   location  2158 non-null   object\n",
      " 3   text      3263 non-null   object\n",
      "dtypes: int64(1), object(3)\n",
      "memory usage: 102.1+ KB\n"
     ]
    }
   ],
   "source": [
    "#Print a concise summary of a data\n",
    "test_data.info()"
   ]
  },
  {
   "cell_type": "code",
   "execution_count": 9,
   "id": "01d89b8f",
   "metadata": {
    "execution": {
     "iopub.execute_input": "2023-08-14T13:35:45.557275Z",
     "iopub.status.busy": "2023-08-14T13:35:45.556829Z",
     "iopub.status.idle": "2023-08-14T13:35:45.575165Z",
     "shell.execute_reply": "2023-08-14T13:35:45.574249Z"
    },
    "papermill": {
     "duration": 0.035239,
     "end_time": "2023-08-14T13:35:45.577428",
     "exception": false,
     "start_time": "2023-08-14T13:35:45.542189",
     "status": "completed"
    },
    "tags": []
   },
   "outputs": [
    {
     "data": {
      "text/plain": [
       "0"
      ]
     },
     "execution_count": 9,
     "metadata": {},
     "output_type": "execute_result"
    }
   ],
   "source": [
    "#check duplicate\n",
    "train_data.duplicated().sum()"
   ]
  },
  {
   "cell_type": "code",
   "execution_count": 10,
   "id": "74c8b2cb",
   "metadata": {
    "execution": {
     "iopub.execute_input": "2023-08-14T13:35:45.606681Z",
     "iopub.status.busy": "2023-08-14T13:35:45.605575Z",
     "iopub.status.idle": "2023-08-14T13:35:45.617267Z",
     "shell.execute_reply": "2023-08-14T13:35:45.616126Z"
    },
    "papermill": {
     "duration": 0.028792,
     "end_time": "2023-08-14T13:35:45.619644",
     "exception": false,
     "start_time": "2023-08-14T13:35:45.590852",
     "status": "completed"
    },
    "tags": []
   },
   "outputs": [
    {
     "data": {
      "text/plain": [
       "0"
      ]
     },
     "execution_count": 10,
     "metadata": {},
     "output_type": "execute_result"
    }
   ],
   "source": [
    "#check duplicate\n",
    "test_data.duplicated().sum()"
   ]
  },
  {
   "cell_type": "code",
   "execution_count": 11,
   "id": "1f3365cc",
   "metadata": {
    "execution": {
     "iopub.execute_input": "2023-08-14T13:35:45.649326Z",
     "iopub.status.busy": "2023-08-14T13:35:45.648644Z",
     "iopub.status.idle": "2023-08-14T13:35:45.656568Z",
     "shell.execute_reply": "2023-08-14T13:35:45.655128Z"
    },
    "papermill": {
     "duration": 0.026164,
     "end_time": "2023-08-14T13:35:45.659303",
     "exception": false,
     "start_time": "2023-08-14T13:35:45.633139",
     "status": "completed"
    },
    "tags": []
   },
   "outputs": [
    {
     "name": "stdout",
     "output_type": "stream",
     "text": [
      "221 221\n"
     ]
    }
   ],
   "source": [
    "print (train_data.keyword.nunique(), test_data.keyword.nunique())"
   ]
  },
  {
   "cell_type": "markdown",
   "id": "77a0e961",
   "metadata": {
    "papermill": {
     "duration": 0.013158,
     "end_time": "2023-08-14T13:35:45.686024",
     "exception": false,
     "start_time": "2023-08-14T13:35:45.672866",
     "status": "completed"
    },
    "tags": []
   },
   "source": [
    "Frequently happened words"
   ]
  },
  {
   "cell_type": "markdown",
   "id": "50a62fde",
   "metadata": {
    "papermill": {
     "duration": 0.012991,
     "end_time": "2023-08-14T13:35:45.712553",
     "exception": false,
     "start_time": "2023-08-14T13:35:45.699562",
     "status": "completed"
    },
    "tags": []
   },
   "source": [
    "### Top Keywords\n",
    "Keyword extraction allows you to quickly locate the most essential words and phrases in large datasets."
   ]
  },
  {
   "cell_type": "code",
   "execution_count": 12,
   "id": "d4decca4",
   "metadata": {
    "execution": {
     "iopub.execute_input": "2023-08-14T13:35:45.741303Z",
     "iopub.status.busy": "2023-08-14T13:35:45.740930Z",
     "iopub.status.idle": "2023-08-14T13:35:46.619633Z",
     "shell.execute_reply": "2023-08-14T13:35:46.618373Z"
    },
    "papermill": {
     "duration": 0.896222,
     "end_time": "2023-08-14T13:35:46.622234",
     "exception": false,
     "start_time": "2023-08-14T13:35:45.726012",
     "status": "completed"
    },
    "tags": []
   },
   "outputs": [
    {
     "data": {
      "image/png": "[encoded data removed]",
      "text/plain": [
       "<Figure size 640x480 with 1 Axes>"
      ]
     },
     "metadata": {},
     "output_type": "display_data"
    },
    {
     "data": {
      "image/png": "[encoded data removed]",
      "text/plain": [
       "<Figure size 640x480 with 1 Axes>"
      ]
     },
     "metadata": {},
     "output_type": "display_data"
    }
   ],
   "source": [
    "keywords = train_data[train_data.target==0].keyword.value_counts().head(10)\n",
    "\n",
    "\n",
    "sns.barplot(x=keywords, y=keywords.index, color='c')\n",
    "plt.title('Top keywords for disaster tweets')\n",
    "plt.show()\n",
    "sns.barplot(x=keywords, y=keywords.index, color='y')\n",
    "plt.title('Top keywords for non-disaster tweets')\n",
    "plt.show()"
   ]
  },
  {
   "cell_type": "code",
   "execution_count": 13,
   "id": "a02ee55e",
   "metadata": {
    "execution": {
     "iopub.execute_input": "2023-08-14T13:35:46.655017Z",
     "iopub.status.busy": "2023-08-14T13:35:46.654547Z",
     "iopub.status.idle": "2023-08-14T13:35:46.663133Z",
     "shell.execute_reply": "2023-08-14T13:35:46.661830Z"
    },
    "papermill": {
     "duration": 0.029136,
     "end_time": "2023-08-14T13:35:46.666215",
     "exception": false,
     "start_time": "2023-08-14T13:35:46.637079",
     "status": "completed"
    },
    "tags": []
   },
   "outputs": [
    {
     "name": "stdout",
     "output_type": "stream",
     "text": [
      "3341 1602\n"
     ]
    }
   ],
   "source": [
    "# Check number of unique keywords and locations\n",
    "print (train_data.location.nunique(), test_data.location.nunique())"
   ]
  },
  {
   "cell_type": "code",
   "execution_count": 14,
   "id": "5c39bd27",
   "metadata": {
    "execution": {
     "iopub.execute_input": "2023-08-14T13:35:46.697484Z",
     "iopub.status.busy": "2023-08-14T13:35:46.697095Z",
     "iopub.status.idle": "2023-08-14T13:35:47.104723Z",
     "shell.execute_reply": "2023-08-14T13:35:47.103502Z"
    },
    "papermill": {
     "duration": 0.426593,
     "end_time": "2023-08-14T13:35:47.107706",
     "exception": false,
     "start_time": "2023-08-14T13:35:46.681113",
     "status": "completed"
    },
    "tags": []
   },
   "outputs": [
    {
     "data": {
      "image/png": "[encoded data removed]",
      "text/plain": [
       "<Figure size 900x600 with 1 Axes>"
      ]
     },
     "metadata": {},
     "output_type": "display_data"
    }
   ],
   "source": [
    "# Most common locations\n",
    "plt.figure(figsize=(9,6))\n",
    "sns.countplot(y=train_data.location, order = train_data.location.value_counts().iloc[:15].index)\n",
    "plt.title('Top 15 locations')\n",
    "plt.show()"
   ]
  },
  {
   "cell_type": "markdown",
   "id": "0b853abb",
   "metadata": {
    "papermill": {
     "duration": 0.014976,
     "end_time": "2023-08-14T13:35:47.138529",
     "exception": false,
     "start_time": "2023-08-14T13:35:47.123553",
     "status": "completed"
    },
    "tags": []
   },
   "source": [
    "### Content of fake and true tweets"
   ]
  },
  {
   "cell_type": "markdown",
   "id": "190d7d23",
   "metadata": {
    "papermill": {
     "duration": 0.014883,
     "end_time": "2023-08-14T13:35:47.168702",
     "exception": false,
     "start_time": "2023-08-14T13:35:47.153819",
     "status": "completed"
    },
    "tags": []
   },
   "source": []
  },
  {
   "cell_type": "code",
   "execution_count": 15,
   "id": "33778b2b",
   "metadata": {
    "execution": {
     "iopub.execute_input": "2023-08-14T13:35:47.201188Z",
     "iopub.status.busy": "2023-08-14T13:35:47.200798Z",
     "iopub.status.idle": "2023-08-14T13:35:49.006510Z",
     "shell.execute_reply": "2023-08-14T13:35:49.005045Z"
    },
    "papermill": {
     "duration": 1.825333,
     "end_time": "2023-08-14T13:35:49.009282",
     "exception": false,
     "start_time": "2023-08-14T13:35:47.183949",
     "status": "completed"
    },
    "tags": []
   },
   "outputs": [
    {
     "data": {
      "text/html": [
       "        <script type=\"text/javascript\">\n",
       "        window.PlotlyConfig = {MathJaxConfig: 'local'};\n",
       "        if (window.MathJax && window.MathJax.Hub && window.MathJax.Hub.Config) {window.MathJax.Hub.Config({SVG: {font: \"STIX-Web\"}});}\n",
       "        if (typeof require !== 'undefined') {\n",
       "        require.undef(\"plotly\");\n",
       "        requirejs.config({\n",
       "            paths: {\n",
       "                'plotly': ['https://cdn.plot.ly/plotly-2.24.1.min']\n",
       "            }\n",
       "        });\n",
       "        require(['plotly'], function(Plotly) {\n",
       "            window._Plotly = Plotly;\n",
       "        });\n",
       "        }\n",
       "        </script>\n",
       "        "
      ]
     },
     "metadata": {},
     "output_type": "display_data"
    },
    {
     "data": {
      "text/html": [
       "<div>                            <div id=\"3b56791e-f171-43aa-a738-b04144dbe9c4\" class=\"plotly-graph-div\" style=\"height:550px; width:800px;\"></div>            <script type=\"text/javascript\">                require([\"plotly\"], function(Plotly) {                    window.PLOTLYENV=window.PLOTLYENV || {};                                    if (document.getElementById(\"3b56791e-f171-43aa-a738-b04144dbe9c4\")) {                    Plotly.newPlot(                        \"3b56791e-f171-43aa-a738-b04144dbe9c4\",                        [{\"alignmentgroup\":\"True\",\"hovertemplate\":\"color=red\\u003cbr\\u003ex=%{x}\\u003cbr\\u003ey=%{y}\\u003cextra\\u003e\\u003c\\u002fextra\\u003e\",\"legendgroup\":\"red\",\"marker\":{\"color\":\"#636efa\",\"pattern\":{\"shape\":\"\"}},\"name\":\"red\",\"offsetgroup\":\"red\",\"orientation\":\"v\",\"showlegend\":true,\"textposition\":\"auto\",\"x\":[\"0\"],\"xaxis\":\"x\",\"y\":[4342],\"yaxis\":\"y\",\"type\":\"bar\",\"width\":0.4},{\"alignmentgroup\":\"True\",\"hovertemplate\":\"color=goldenrod\\u003cbr\\u003ex=%{x}\\u003cbr\\u003ey=%{y}\\u003cextra\\u003e\\u003c\\u002fextra\\u003e\",\"legendgroup\":\"goldenrod\",\"marker\":{\"color\":\"#EF553B\",\"pattern\":{\"shape\":\"\"}},\"name\":\"goldenrod\",\"offsetgroup\":\"goldenrod\",\"orientation\":\"v\",\"showlegend\":true,\"textposition\":\"auto\",\"x\":[\"1\"],\"xaxis\":\"x\",\"y\":[3271],\"yaxis\":\"y\",\"type\":\"bar\",\"width\":0.4}],                        {\"template\":{\"data\":{\"histogram2dcontour\":[{\"type\":\"histogram2dcontour\",\"colorbar\":{\"outlinewidth\":0,\"ticks\":\"\"},\"colorscale\":[[0.0,\"#0d0887\"],[0.1111111111111111,\"#46039f\"],[0.2222222222222222,\"#7201a8\"],[0.3333333333333333,\"#9c179e\"],[0.4444444444444444,\"#bd3786\"],[0.5555555555555556,\"#d8576b\"],[0.6666666666666666,\"#ed7953\"],[0.7777777777777778,\"#fb9f3a\"],[0.8888888888888888,\"#fdca26\"],[1.0,\"#f0f921\"]]}],\"choropleth\":[{\"type\":\"choropleth\",\"colorbar\":{\"outlinewidth\":0,\"ticks\":\"\"}}],\"histogram2d\":[{\"type\":\"histogram2d\",\"colorbar\":{\"outlinewidth\":0,\"ticks\":\"\"},\"colorscale\":[[0.0,\"#0d0887\"],[0.1111111111111111,\"#46039f\"],[0.2222222222222222,\"#7201a8\"],[0.3333333333333333,\"#9c179e\"],[0.4444444444444444,\"#bd3786\"],[0.5555555555555556,\"#d8576b\"],[0.6666666666666666,\"#ed7953\"],[0.7777777777777778,\"#fb9f3a\"],[0.8888888888888888,\"#fdca26\"],[1.0,\"#f0f921\"]]}],\"heatmap\":[{\"type\":\"heatmap\",\"colorbar\":{\"outlinewidth\":0,\"ticks\":\"\"},\"colorscale\":[[0.0,\"#0d0887\"],[0.1111111111111111,\"#46039f\"],[0.2222222222222222,\"#7201a8\"],[0.3333333333333333,\"#9c179e\"],[0.4444444444444444,\"#bd3786\"],[0.5555555555555556,\"#d8576b\"],[0.6666666666666666,\"#ed7953\"],[0.7777777777777778,\"#fb9f3a\"],[0.8888888888888888,\"#fdca26\"],[1.0,\"#f0f921\"]]}],\"heatmapgl\":[{\"type\":\"heatmapgl\",\"colorbar\":{\"outlinewidth\":0,\"ticks\":\"\"},\"colorscale\":[[0.0,\"#0d0887\"],[0.1111111111111111,\"#46039f\"],[0.2222222222222222,\"#7201a8\"],[0.3333333333333333,\"#9c179e\"],[0.4444444444444444,\"#bd3786\"],[0.5555555555555556,\"#d8576b\"],[0.6666666666666666,\"#ed7953\"],[0.7777777777777778,\"#fb9f3a\"],[0.8888888888888888,\"#fdca26\"],[1.0,\"#f0f921\"]]}],\"contourcarpet\":[{\"type\":\"contourcarpet\",\"colorbar\":{\"outlinewidth\":0,\"ticks\":\"\"}}],\"contour\":[{\"type\":\"contour\",\"colorbar\":{\"outlinewidth\":0,\"ticks\":\"\"},\"colorscale\":[[0.0,\"#0d0887\"],[0.1111111111111111,\"#46039f\"],[0.2222222222222222,\"#7201a8\"],[0.3333333333333333,\"#9c179e\"],[0.4444444444444444,\"#bd3786\"],[0.5555555555555556,\"#d8576b\"],[0.6666666666666666,\"#ed7953\"],[0.7777777777777778,\"#fb9f3a\"],[0.8888888888888888,\"#fdca26\"],[1.0,\"#f0f921\"]]}],\"surface\":[{\"type\":\"surface\",\"colorbar\":{\"outlinewidth\":0,\"ticks\":\"\"},\"colorscale\":[[0.0,\"#0d0887\"],[0.1111111111111111,\"#46039f\"],[0.2222222222222222,\"#7201a8\"],[0.3333333333333333,\"#9c179e\"],[0.4444444444444444,\"#bd3786\"],[0.5555555555555556,\"#d8576b\"],[0.6666666666666666,\"#ed7953\"],[0.7777777777777778,\"#fb9f3a\"],[0.8888888888888888,\"#fdca26\"],[1.0,\"#f0f921\"]]}],\"mesh3d\":[{\"type\":\"mesh3d\",\"colorbar\":{\"outlinewidth\":0,\"ticks\":\"\"}}],\"scatter\":[{\"fillpattern\":{\"fillmode\":\"overlay\",\"size\":10,\"solidity\":0.2},\"type\":\"scatter\"}],\"parcoords\":[{\"type\":\"parcoords\",\"line\":{\"colorbar\":{\"outlinewidth\":0,\"ticks\":\"\"}}}],\"scatterpolargl\":[{\"type\":\"scatterpolargl\",\"marker\":{\"colorbar\":{\"outlinewidth\":0,\"ticks\":\"\"}}}],\"bar\":[{\"error_x\":{\"color\":\"#2a3f5f\"},\"error_y\":{\"color\":\"#2a3f5f\"},\"marker\":{\"line\":{\"color\":\"#E5ECF6\",\"width\":0.5},\"pattern\":{\"fillmode\":\"overlay\",\"size\":10,\"solidity\":0.2}},\"type\":\"bar\"}],\"scattergeo\":[{\"type\":\"scattergeo\",\"marker\":{\"colorbar\":{\"outlinewidth\":0,\"ticks\":\"\"}}}],\"scatterpolar\":[{\"type\":\"scatterpolar\",\"marker\":{\"colorbar\":{\"outlinewidth\":0,\"ticks\":\"\"}}}],\"histogram\":[{\"marker\":{\"pattern\":{\"fillmode\":\"overlay\",\"size\":10,\"solidity\":0.2}},\"type\":\"histogram\"}],\"scattergl\":[{\"type\":\"scattergl\",\"marker\":{\"colorbar\":{\"outlinewidth\":0,\"ticks\":\"\"}}}],\"scatter3d\":[{\"type\":\"scatter3d\",\"line\":{\"colorbar\":{\"outlinewidth\":0,\"ticks\":\"\"}},\"marker\":{\"colorbar\":{\"outlinewidth\":0,\"ticks\":\"\"}}}],\"scattermapbox\":[{\"type\":\"scattermapbox\",\"marker\":{\"colorbar\":{\"outlinewidth\":0,\"ticks\":\"\"}}}],\"scatterternary\":[{\"type\":\"scatterternary\",\"marker\":{\"colorbar\":{\"outlinewidth\":0,\"ticks\":\"\"}}}],\"scattercarpet\":[{\"type\":\"scattercarpet\",\"marker\":{\"colorbar\":{\"outlinewidth\":0,\"ticks\":\"\"}}}],\"carpet\":[{\"aaxis\":{\"endlinecolor\":\"#2a3f5f\",\"gridcolor\":\"white\",\"linecolor\":\"white\",\"minorgridcolor\":\"white\",\"startlinecolor\":\"#2a3f5f\"},\"baxis\":{\"endlinecolor\":\"#2a3f5f\",\"gridcolor\":\"white\",\"linecolor\":\"white\",\"minorgridcolor\":\"white\",\"startlinecolor\":\"#2a3f5f\"},\"type\":\"carpet\"}],\"table\":[{\"cells\":{\"fill\":{\"color\":\"#EBF0F8\"},\"line\":{\"color\":\"white\"}},\"header\":{\"fill\":{\"color\":\"#C8D4E3\"},\"line\":{\"color\":\"white\"}},\"type\":\"table\"}],\"barpolar\":[{\"marker\":{\"line\":{\"color\":\"#E5ECF6\",\"width\":0.5},\"pattern\":{\"fillmode\":\"overlay\",\"size\":10,\"solidity\":0.2}},\"type\":\"barpolar\"}],\"pie\":[{\"automargin\":true,\"type\":\"pie\"}]},\"layout\":{\"autotypenumbers\":\"strict\",\"colorway\":[\"#636efa\",\"#EF553B\",\"#00cc96\",\"#ab63fa\",\"#FFA15A\",\"#19d3f3\",\"#FF6692\",\"#B6E880\",\"#FF97FF\",\"#FECB52\"],\"font\":{\"color\":\"#2a3f5f\"},\"hovermode\":\"closest\",\"hoverlabel\":{\"align\":\"left\"},\"paper_bgcolor\":\"white\",\"plot_bgcolor\":\"#E5ECF6\",\"polar\":{\"bgcolor\":\"#E5ECF6\",\"angularaxis\":{\"gridcolor\":\"white\",\"linecolor\":\"white\",\"ticks\":\"\"},\"radialaxis\":{\"gridcolor\":\"white\",\"linecolor\":\"white\",\"ticks\":\"\"}},\"ternary\":{\"bgcolor\":\"#E5ECF6\",\"aaxis\":{\"gridcolor\":\"white\",\"linecolor\":\"white\",\"ticks\":\"\"},\"baxis\":{\"gridcolor\":\"white\",\"linecolor\":\"white\",\"ticks\":\"\"},\"caxis\":{\"gridcolor\":\"white\",\"linecolor\":\"white\",\"ticks\":\"\"}},\"coloraxis\":{\"colorbar\":{\"outlinewidth\":0,\"ticks\":\"\"}},\"colorscale\":{\"sequential\":[[0.0,\"#0d0887\"],[0.1111111111111111,\"#46039f\"],[0.2222222222222222,\"#7201a8\"],[0.3333333333333333,\"#9c179e\"],[0.4444444444444444,\"#bd3786\"],[0.5555555555555556,\"#d8576b\"],[0.6666666666666666,\"#ed7953\"],[0.7777777777777778,\"#fb9f3a\"],[0.8888888888888888,\"#fdca26\"],[1.0,\"#f0f921\"]],\"sequentialminus\":[[0.0,\"#0d0887\"],[0.1111111111111111,\"#46039f\"],[0.2222222222222222,\"#7201a8\"],[0.3333333333333333,\"#9c179e\"],[0.4444444444444444,\"#bd3786\"],[0.5555555555555556,\"#d8576b\"],[0.6666666666666666,\"#ed7953\"],[0.7777777777777778,\"#fb9f3a\"],[0.8888888888888888,\"#fdca26\"],[1.0,\"#f0f921\"]],\"diverging\":[[0,\"#8e0152\"],[0.1,\"#c51b7d\"],[0.2,\"#de77ae\"],[0.3,\"#f1b6da\"],[0.4,\"#fde0ef\"],[0.5,\"#f7f7f7\"],[0.6,\"#e6f5d0\"],[0.7,\"#b8e186\"],[0.8,\"#7fbc41\"],[0.9,\"#4d9221\"],[1,\"#276419\"]]},\"xaxis\":{\"gridcolor\":\"white\",\"linecolor\":\"white\",\"ticks\":\"\",\"title\":{\"standoff\":15},\"zerolinecolor\":\"white\",\"automargin\":true,\"zerolinewidth\":2},\"yaxis\":{\"gridcolor\":\"white\",\"linecolor\":\"white\",\"ticks\":\"\",\"title\":{\"standoff\":15},\"zerolinecolor\":\"white\",\"automargin\":true,\"zerolinewidth\":2},\"scene\":{\"xaxis\":{\"backgroundcolor\":\"#E5ECF6\",\"gridcolor\":\"white\",\"linecolor\":\"white\",\"showbackground\":true,\"ticks\":\"\",\"zerolinecolor\":\"white\",\"gridwidth\":2},\"yaxis\":{\"backgroundcolor\":\"#E5ECF6\",\"gridcolor\":\"white\",\"linecolor\":\"white\",\"showbackground\":true,\"ticks\":\"\",\"zerolinecolor\":\"white\",\"gridwidth\":2},\"zaxis\":{\"backgroundcolor\":\"#E5ECF6\",\"gridcolor\":\"white\",\"linecolor\":\"white\",\"showbackground\":true,\"ticks\":\"\",\"zerolinecolor\":\"white\",\"gridwidth\":2}},\"shapedefaults\":{\"line\":{\"color\":\"#2a3f5f\"}},\"annotationdefaults\":{\"arrowcolor\":\"#2a3f5f\",\"arrowhead\":0,\"arrowwidth\":1},\"geo\":{\"bgcolor\":\"white\",\"landcolor\":\"#E5ECF6\",\"subunitcolor\":\"white\",\"showland\":true,\"showlakes\":true,\"lakecolor\":\"white\"},\"title\":{\"x\":0.05},\"mapbox\":{\"style\":\"light\"}}},\"xaxis\":{\"anchor\":\"y\",\"domain\":[0.0,1.0],\"title\":{\"text\":\"Targets\"}},\"yaxis\":{\"anchor\":\"x\",\"domain\":[0.0,1.0],\"title\":{\"text\":\"Count\"}},\"legend\":{\"title\":{\"text\":\"color\"},\"tracegroupgap\":0},\"margin\":{\"t\":60},\"barmode\":\"relative\",\"title\":{\"text\":\"Counts for Disaster and Non-Disaster Tweets\",\"x\":0.5},\"width\":800,\"height\":550,\"showlegend\":false},                        {\"responsive\": true}                    ).then(function(){\n",
       "                            \n",
       "var gd = document.getElementById('3b56791e-f171-43aa-a738-b04144dbe9c4');\n",
       "var x = new MutationObserver(function (mutations, observer) {{\n",
       "        var display = window.getComputedStyle(gd).display;\n",
       "        if (!display || display === 'none') {{\n",
       "            console.log([gd, 'removed!']);\n",
       "            Plotly.purge(gd);\n",
       "            observer.disconnect();\n",
       "        }}\n",
       "}});\n",
       "\n",
       "// Listen for the removal of the full notebook cells\n",
       "var notebookContainer = gd.closest('#notebook-container');\n",
       "if (notebookContainer) {{\n",
       "    x.observe(notebookContainer, {childList: true});\n",
       "}}\n",
       "\n",
       "// Listen for the clearing of the current output cell\n",
       "var outputEl = gd.closest('.output');\n",
       "if (outputEl) {{\n",
       "    x.observe(outputEl, {childList: true});\n",
       "}}\n",
       "\n",
       "                        })                };                });            </script>        </div>"
      ]
     },
     "metadata": {},
     "output_type": "display_data"
    }
   ],
   "source": [
    "fig = px.bar(x=[\"0\",\"1\"], y=train_data[\"target\"].value_counts(),color=[\"red\", \"goldenrod\"])\n",
    "\n",
    "for dt in fig.data:\n",
    "    dt[\"width\"] = 0.4 \n",
    "\n",
    "fig.update_layout(\n",
    "    title_text = \"Counts for Disaster and Non-Disaster Tweets\",\n",
    "    title_x=0.5,\n",
    "    width=800,\n",
    "    height=550,\n",
    "    xaxis_title=\"Targets\",\n",
    "    yaxis_title=\"Count\",\n",
    "    showlegend=False\n",
    ").show()"
   ]
  },
  {
   "cell_type": "markdown",
   "id": "e7705eec",
   "metadata": {
    "papermill": {
     "duration": 0.015444,
     "end_time": "2023-08-14T13:35:49.040772",
     "exception": false,
     "start_time": "2023-08-14T13:35:49.025328",
     "status": "completed"
    },
    "tags": []
   },
   "source": []
  },
  {
   "cell_type": "markdown",
   "id": "b9526833",
   "metadata": {
    "papermill": {
     "duration": 0.015419,
     "end_time": "2023-08-14T13:35:49.071986",
     "exception": false,
     "start_time": "2023-08-14T13:35:49.056567",
     "status": "completed"
    },
    "tags": []
   },
   "source": [
    "## Preprocessing"
   ]
  },
  {
   "cell_type": "markdown",
   "id": "dcc359c8",
   "metadata": {
    "papermill": {
     "duration": 0.015855,
     "end_time": "2023-08-14T13:35:49.103716",
     "exception": false,
     "start_time": "2023-08-14T13:35:49.087861",
     "status": "completed"
    },
    "tags": []
   },
   "source": []
  },
  {
   "cell_type": "markdown",
   "id": "e4801fcc",
   "metadata": {
    "papermill": {
     "duration": 0.016411,
     "end_time": "2023-08-14T13:35:49.136157",
     "exception": false,
     "start_time": "2023-08-14T13:35:49.119746",
     "status": "completed"
    },
    "tags": []
   },
   "source": [
    "We only use text and target column  beacuse lot's of null values inside other columns"
   ]
  },
  {
   "cell_type": "code",
   "execution_count": 16,
   "id": "1ef7780a",
   "metadata": {
    "execution": {
     "iopub.execute_input": "2023-08-14T13:35:49.170156Z",
     "iopub.status.busy": "2023-08-14T13:35:49.169761Z",
     "iopub.status.idle": "2023-08-14T13:35:49.176903Z",
     "shell.execute_reply": "2023-08-14T13:35:49.175970Z"
    },
    "papermill": {
     "duration": 0.02682,
     "end_time": "2023-08-14T13:35:49.179069",
     "exception": false,
     "start_time": "2023-08-14T13:35:49.152249",
     "status": "completed"
    },
    "tags": []
   },
   "outputs": [],
   "source": [
    "# Preprocessing functions\n",
    "def preprocess_text(text):\n",
    "    # Convert to lowercase\n",
    "    text = text.lower()\n",
    "    # Remove special characters and numbers\n",
    "    text = re.sub(r'[^a-zA-Z\\s]', '', text)\n",
    "    return text\n",
    "\n",
    "def remove_stopwords(tokens):\n",
    "    stop_words = set(stopwords.words(\"english\"))\n",
    "    filtered_tokens = [word for word in tokens if word not in stop_words]\n",
    "    return filtered_tokens\n",
    "\n",
    "def perform_stemming(tokens):\n",
    "    stemmer = PorterStemmer()\n",
    "    stemmed_tokens = [stemmer.stem(token) for token in tokens]\n",
    "    return stemmed_tokens"
   ]
  },
  {
   "cell_type": "code",
   "execution_count": 17,
   "id": "1c7a2d50",
   "metadata": {
    "execution": {
     "iopub.execute_input": "2023-08-14T13:35:49.214322Z",
     "iopub.status.busy": "2023-08-14T13:35:49.213440Z",
     "iopub.status.idle": "2023-08-14T13:35:57.781128Z",
     "shell.execute_reply": "2023-08-14T13:35:57.780041Z"
    },
    "papermill": {
     "duration": 8.588654,
     "end_time": "2023-08-14T13:35:57.783891",
     "exception": false,
     "start_time": "2023-08-14T13:35:49.195237",
     "status": "completed"
    },
    "tags": []
   },
   "outputs": [],
   "source": [
    "# Preprocessing\n",
    "train_data.fillna(\"\", inplace=True)\n",
    "test_data.fillna(\"\", inplace=True)\n",
    "\n",
    "train_data[\"text\"] = train_data[\"text\"].apply(preprocess_text)\n",
    "test_data[\"text\"] = test_data[\"text\"].apply(preprocess_text)\n",
    "\n",
    "train_data[\"text\"] = train_data[\"text\"].apply(word_tokenize)\n",
    "test_data[\"text\"] = test_data[\"text\"].apply(word_tokenize)\n",
    "\n",
    "train_data[\"text\"] = train_data[\"text\"].apply(remove_stopwords)\n",
    "test_data[\"text\"] = test_data[\"text\"].apply(remove_stopwords)\n",
    "\n",
    "train_data[\"text\"] = train_data[\"text\"].apply(perform_stemming)\n",
    "test_data[\"text\"] = test_data[\"text\"].apply(perform_stemming)"
   ]
  },
  {
   "cell_type": "code",
   "execution_count": 18,
   "id": "50d6b354",
   "metadata": {
    "execution": {
     "iopub.execute_input": "2023-08-14T13:35:57.817367Z",
     "iopub.status.busy": "2023-08-14T13:35:57.816978Z",
     "iopub.status.idle": "2023-08-14T13:35:57.833443Z",
     "shell.execute_reply": "2023-08-14T13:35:57.832256Z"
    },
    "papermill": {
     "duration": 0.036245,
     "end_time": "2023-08-14T13:35:57.836180",
     "exception": false,
     "start_time": "2023-08-14T13:35:57.799935",
     "status": "completed"
    },
    "tags": []
   },
   "outputs": [
    {
     "data": {
      "text/html": [
       "<div>\n",
       "<style scoped>\n",
       "    .dataframe tbody tr th:only-of-type {\n",
       "        vertical-align: middle;\n",
       "    }\n",
       "\n",
       "    .dataframe tbody tr th {\n",
       "        vertical-align: top;\n",
       "    }\n",
       "\n",
       "    .dataframe thead th {\n",
       "        text-align: right;\n",
       "    }\n",
       "</style>\n",
       "<table border=\"1\" class=\"dataframe\">\n",
       "  <thead>\n",
       "    <tr style=\"text-align: right;\">\n",
       "      <th></th>\n",
       "      <th>text</th>\n",
       "      <th>target</th>\n",
       "    </tr>\n",
       "  </thead>\n",
       "  <tbody>\n",
       "    <tr>\n",
       "      <th>0</th>\n",
       "      <td>[deed, reason, earthquak, may, allah, forgiv, us]</td>\n",
       "      <td>1</td>\n",
       "    </tr>\n",
       "    <tr>\n",
       "      <th>1</th>\n",
       "      <td>[forest, fire, near, la, rong, sask, canada]</td>\n",
       "      <td>1</td>\n",
       "    </tr>\n",
       "    <tr>\n",
       "      <th>2</th>\n",
       "      <td>[resid, ask, shelter, place, notifi, offic, ev...</td>\n",
       "      <td>1</td>\n",
       "    </tr>\n",
       "    <tr>\n",
       "      <th>3</th>\n",
       "      <td>[peopl, receiv, wildfir, evacu, order, califor...</td>\n",
       "      <td>1</td>\n",
       "    </tr>\n",
       "    <tr>\n",
       "      <th>4</th>\n",
       "      <td>[got, sent, photo, rubi, alaska, smoke, wildfi...</td>\n",
       "      <td>1</td>\n",
       "    </tr>\n",
       "  </tbody>\n",
       "</table>\n",
       "</div>"
      ],
      "text/plain": [
       "                                                text  target\n",
       "0  [deed, reason, earthquak, may, allah, forgiv, us]       1\n",
       "1       [forest, fire, near, la, rong, sask, canada]       1\n",
       "2  [resid, ask, shelter, place, notifi, offic, ev...       1\n",
       "3  [peopl, receiv, wildfir, evacu, order, califor...       1\n",
       "4  [got, sent, photo, rubi, alaska, smoke, wildfi...       1"
      ]
     },
     "execution_count": 18,
     "metadata": {},
     "output_type": "execute_result"
    }
   ],
   "source": [
    "data = train_data[['text','target']]\n",
    "data.head()"
   ]
  },
  {
   "cell_type": "markdown",
   "id": "c9aa4c30",
   "metadata": {
    "papermill": {
     "duration": 0.015773,
     "end_time": "2023-08-14T13:35:57.868257",
     "exception": false,
     "start_time": "2023-08-14T13:35:57.852484",
     "status": "completed"
    },
    "tags": []
   },
   "source": []
  },
  {
   "cell_type": "markdown",
   "id": "6a3742b7",
   "metadata": {
    "papermill": {
     "duration": 0.016437,
     "end_time": "2023-08-14T13:35:57.900924",
     "exception": false,
     "start_time": "2023-08-14T13:35:57.884487",
     "status": "completed"
    },
    "tags": []
   },
   "source": [
    "### TF-IDF Vectorizer\n",
    "Is a measure of originality of a word by comparing the number of times a word appears in document with the number of documents the word appears in"
   ]
  },
  {
   "cell_type": "code",
   "execution_count": 19,
   "id": "f324d7b4",
   "metadata": {
    "execution": {
     "iopub.execute_input": "2023-08-14T13:35:57.935594Z",
     "iopub.status.busy": "2023-08-14T13:35:57.935154Z",
     "iopub.status.idle": "2023-08-14T13:35:57.956276Z",
     "shell.execute_reply": "2023-08-14T13:35:57.955039Z"
    },
    "papermill": {
     "duration": 0.041991,
     "end_time": "2023-08-14T13:35:57.959162",
     "exception": false,
     "start_time": "2023-08-14T13:35:57.917171",
     "status": "completed"
    },
    "tags": []
   },
   "outputs": [],
   "source": [
    "# Convert the tokenized text back to strings\n",
    "train_data[\"text\"] = train_data[\"text\"].apply(lambda tokens: \" \".join(tokens))\n",
    "test_data[\"text\"] = test_data[\"text\"].apply(lambda tokens: \" \".join(tokens))"
   ]
  },
  {
   "cell_type": "code",
   "execution_count": 20,
   "id": "cebebf5f",
   "metadata": {
    "execution": {
     "iopub.execute_input": "2023-08-14T13:35:57.996960Z",
     "iopub.status.busy": "2023-08-14T13:35:57.996309Z",
     "iopub.status.idle": "2023-08-14T13:35:58.009608Z",
     "shell.execute_reply": "2023-08-14T13:35:58.008318Z"
    },
    "papermill": {
     "duration": 0.036383,
     "end_time": "2023-08-14T13:35:58.012177",
     "exception": false,
     "start_time": "2023-08-14T13:35:57.975794",
     "status": "completed"
    },
    "tags": []
   },
   "outputs": [
    {
     "data": {
      "text/html": [
       "<div>\n",
       "<style scoped>\n",
       "    .dataframe tbody tr th:only-of-type {\n",
       "        vertical-align: middle;\n",
       "    }\n",
       "\n",
       "    .dataframe tbody tr th {\n",
       "        vertical-align: top;\n",
       "    }\n",
       "\n",
       "    .dataframe thead th {\n",
       "        text-align: right;\n",
       "    }\n",
       "</style>\n",
       "<table border=\"1\" class=\"dataframe\">\n",
       "  <thead>\n",
       "    <tr style=\"text-align: right;\">\n",
       "      <th></th>\n",
       "      <th>id</th>\n",
       "      <th>keyword</th>\n",
       "      <th>location</th>\n",
       "      <th>text</th>\n",
       "      <th>target</th>\n",
       "    </tr>\n",
       "  </thead>\n",
       "  <tbody>\n",
       "    <tr>\n",
       "      <th>0</th>\n",
       "      <td>1</td>\n",
       "      <td></td>\n",
       "      <td></td>\n",
       "      <td>deed reason earthquak may allah forgiv us</td>\n",
       "      <td>1</td>\n",
       "    </tr>\n",
       "    <tr>\n",
       "      <th>1</th>\n",
       "      <td>4</td>\n",
       "      <td></td>\n",
       "      <td></td>\n",
       "      <td>forest fire near la rong sask canada</td>\n",
       "      <td>1</td>\n",
       "    </tr>\n",
       "    <tr>\n",
       "      <th>2</th>\n",
       "      <td>5</td>\n",
       "      <td></td>\n",
       "      <td></td>\n",
       "      <td>resid ask shelter place notifi offic evacu she...</td>\n",
       "      <td>1</td>\n",
       "    </tr>\n",
       "    <tr>\n",
       "      <th>3</th>\n",
       "      <td>6</td>\n",
       "      <td></td>\n",
       "      <td></td>\n",
       "      <td>peopl receiv wildfir evacu order california</td>\n",
       "      <td>1</td>\n",
       "    </tr>\n",
       "    <tr>\n",
       "      <th>4</th>\n",
       "      <td>7</td>\n",
       "      <td></td>\n",
       "      <td></td>\n",
       "      <td>got sent photo rubi alaska smoke wildfir pour ...</td>\n",
       "      <td>1</td>\n",
       "    </tr>\n",
       "  </tbody>\n",
       "</table>\n",
       "</div>"
      ],
      "text/plain": [
       "   id keyword location                                               text  \\\n",
       "0   1                           deed reason earthquak may allah forgiv us   \n",
       "1   4                                forest fire near la rong sask canada   \n",
       "2   5                   resid ask shelter place notifi offic evacu she...   \n",
       "3   6                         peopl receiv wildfir evacu order california   \n",
       "4   7                   got sent photo rubi alaska smoke wildfir pour ...   \n",
       "\n",
       "   target  \n",
       "0       1  \n",
       "1       1  \n",
       "2       1  \n",
       "3       1  \n",
       "4       1  "
      ]
     },
     "execution_count": 20,
     "metadata": {},
     "output_type": "execute_result"
    }
   ],
   "source": [
    "train_data.head()"
   ]
  },
  {
   "cell_type": "markdown",
   "id": "90740014",
   "metadata": {
    "papermill": {
     "duration": 0.01652,
     "end_time": "2023-08-14T13:35:58.045132",
     "exception": false,
     "start_time": "2023-08-14T13:35:58.028612",
     "status": "completed"
    },
    "tags": []
   },
   "source": [
    "### TF-IDF vectorizer\n",
    "TF-IDF will transform the text into meaningful representation of integers or numbers which is used to fit machine learning algorithm for predictions. \n",
    "\n",
    "TF-IDF Vectorizer is a measure of originality of a word by comparing the number of times a word appears in document with the number of documents the word appears in"
   ]
  },
  {
   "cell_type": "markdown",
   "id": "c92d3f1f",
   "metadata": {
    "papermill": {
     "duration": 0.015848,
     "end_time": "2023-08-14T13:35:58.077331",
     "exception": false,
     "start_time": "2023-08-14T13:35:58.061483",
     "status": "completed"
    },
    "tags": []
   },
   "source": []
  },
  {
   "cell_type": "markdown",
   "id": "5ef1e583",
   "metadata": {
    "papermill": {
     "duration": 0.015795,
     "end_time": "2023-08-14T13:35:58.109534",
     "exception": false,
     "start_time": "2023-08-14T13:35:58.093739",
     "status": "completed"
    },
    "tags": []
   },
   "source": []
  },
  {
   "cell_type": "code",
   "execution_count": 21,
   "id": "04d6126a",
   "metadata": {
    "execution": {
     "iopub.execute_input": "2023-08-14T13:35:58.148653Z",
     "iopub.status.busy": "2023-08-14T13:35:58.147379Z",
     "iopub.status.idle": "2023-08-14T13:35:58.155346Z",
     "shell.execute_reply": "2023-08-14T13:35:58.154392Z"
    },
    "papermill": {
     "duration": 0.0311,
     "end_time": "2023-08-14T13:35:58.158126",
     "exception": false,
     "start_time": "2023-08-14T13:35:58.127026",
     "status": "completed"
    },
    "tags": []
   },
   "outputs": [],
   "source": [
    "# Create TF-IDF vectorizer\n",
    "vectorizer = TfidfVectorizer(max_features=5000)\n"
   ]
  },
  {
   "cell_type": "code",
   "execution_count": 22,
   "id": "12bf73c6",
   "metadata": {
    "execution": {
     "iopub.execute_input": "2023-08-14T13:35:58.200402Z",
     "iopub.status.busy": "2023-08-14T13:35:58.199572Z",
     "iopub.status.idle": "2023-08-14T13:35:58.414283Z",
     "shell.execute_reply": "2023-08-14T13:35:58.413119Z"
    },
    "papermill": {
     "duration": 0.237491,
     "end_time": "2023-08-14T13:35:58.417095",
     "exception": false,
     "start_time": "2023-08-14T13:35:58.179604",
     "status": "completed"
    },
    "tags": []
   },
   "outputs": [],
   "source": [
    "# Transform text data\n",
    "X = vectorizer.fit_transform(train_data[\"text\"])\n",
    "y = train_data[\"target\"]"
   ]
  },
  {
   "cell_type": "code",
   "execution_count": 23,
   "id": "d3c44bb2",
   "metadata": {
    "execution": {
     "iopub.execute_input": "2023-08-14T13:35:58.451577Z",
     "iopub.status.busy": "2023-08-14T13:35:58.451199Z",
     "iopub.status.idle": "2023-08-14T13:35:58.460488Z",
     "shell.execute_reply": "2023-08-14T13:35:58.459555Z"
    },
    "papermill": {
     "duration": 0.029704,
     "end_time": "2023-08-14T13:35:58.463262",
     "exception": false,
     "start_time": "2023-08-14T13:35:58.433558",
     "status": "completed"
    },
    "tags": []
   },
   "outputs": [],
   "source": [
    "# Split data into train and validation sets\n",
    "X_train, X_val, y_train, y_val = train_test_split(X, y, test_size=0.2, random_state=42)"
   ]
  },
  {
   "cell_type": "code",
   "execution_count": 24,
   "id": "a5f00ae6",
   "metadata": {
    "execution": {
     "iopub.execute_input": "2023-08-14T13:35:58.497790Z",
     "iopub.status.busy": "2023-08-14T13:35:58.497385Z",
     "iopub.status.idle": "2023-08-14T13:35:58.948610Z",
     "shell.execute_reply": "2023-08-14T13:35:58.947437Z"
    },
    "papermill": {
     "duration": 0.471288,
     "end_time": "2023-08-14T13:35:58.951046",
     "exception": false,
     "start_time": "2023-08-14T13:35:58.479758",
     "status": "completed"
    },
    "tags": []
   },
   "outputs": [
    {
     "name": "stdout",
     "output_type": "stream",
     "text": [
      "Accuracy: 0.79\n",
      "Report:\n",
      "               precision    recall  f1-score   support\n",
      "\n",
      "           0       0.79      0.87      0.83       874\n",
      "           1       0.80      0.68      0.73       649\n",
      "\n",
      "    accuracy                           0.79      1523\n",
      "   macro avg       0.79      0.78      0.78      1523\n",
      "weighted avg       0.79      0.79      0.79      1523\n",
      "\n"
     ]
    },
    {
     "data": {
      "image/png": "[encoded data removed]",
      "text/plain": [
       "<Figure size 640x480 with 2 Axes>"
      ]
     },
     "metadata": {},
     "output_type": "display_data"
    }
   ],
   "source": [
    "# Models\n",
    "model=LogisticRegression()\n",
    "# fitting model\n",
    "model.fit(X_train, y_train)\n",
    "# Evaluate Random forest model\n",
    "\n",
    "# Predict on validation set\n",
    "y_pred = model.predict(X_val)\n",
    "accuracy = accuracy_score(y_val, y_pred)\n",
    "print(f\"Accuracy: {accuracy:.2f}\")\n",
    "\n",
    "report = classification_report(y_val, y_pred)\n",
    "print(\"Report:\\n\", report)\n",
    "# Predict on test set\n",
    "X_test = vectorizer.transform(test_data[\"text\"])\n",
    "test_predictions = model.predict(X_test)\n",
    "# Confusion matrtix\n",
    "confusion_matrix = metrics.confusion_matrix(y_val, y_pred)\n",
    "\n",
    "cm_display = metrics.ConfusionMatrixDisplay(confusion_matrix = confusion_matrix, display_labels = [False, True])\n",
    "\n",
    "cm_display.plot()\n",
    "plt.show()"
   ]
  },
  {
   "cell_type": "code",
   "execution_count": 25,
   "id": "ff55a72b",
   "metadata": {
    "execution": {
     "iopub.execute_input": "2023-08-14T13:35:58.986599Z",
     "iopub.status.busy": "2023-08-14T13:35:58.985765Z",
     "iopub.status.idle": "2023-08-14T13:35:59.005407Z",
     "shell.execute_reply": "2023-08-14T13:35:59.003947Z"
    },
    "papermill": {
     "duration": 0.040533,
     "end_time": "2023-08-14T13:35:59.008257",
     "exception": false,
     "start_time": "2023-08-14T13:35:58.967724",
     "status": "completed"
    },
    "tags": []
   },
   "outputs": [],
   "source": [
    "# Create submission file\n",
    "submission = pd.DataFrame({\"id\": test_data[\"id\"], \"target\": test_predictions})\n",
    "submission.to_csv(\"submission.csv\", index=False)"
   ]
  },
  {
   "cell_type": "code",
   "execution_count": 26,
   "id": "423ee7ef",
   "metadata": {
    "execution": {
     "iopub.execute_input": "2023-08-14T13:35:59.043677Z",
     "iopub.status.busy": "2023-08-14T13:35:59.043239Z",
     "iopub.status.idle": "2023-08-14T13:35:59.053701Z",
     "shell.execute_reply": "2023-08-14T13:35:59.052522Z"
    },
    "papermill": {
     "duration": 0.031148,
     "end_time": "2023-08-14T13:35:59.056228",
     "exception": false,
     "start_time": "2023-08-14T13:35:59.025080",
     "status": "completed"
    },
    "tags": []
   },
   "outputs": [
    {
     "data": {
      "text/html": [
       "<div>\n",
       "<style scoped>\n",
       "    .dataframe tbody tr th:only-of-type {\n",
       "        vertical-align: middle;\n",
       "    }\n",
       "\n",
       "    .dataframe tbody tr th {\n",
       "        vertical-align: top;\n",
       "    }\n",
       "\n",
       "    .dataframe thead th {\n",
       "        text-align: right;\n",
       "    }\n",
       "</style>\n",
       "<table border=\"1\" class=\"dataframe\">\n",
       "  <thead>\n",
       "    <tr style=\"text-align: right;\">\n",
       "      <th></th>\n",
       "      <th>id</th>\n",
       "      <th>target</th>\n",
       "    </tr>\n",
       "  </thead>\n",
       "  <tbody>\n",
       "    <tr>\n",
       "      <th>0</th>\n",
       "      <td>0</td>\n",
       "      <td>1</td>\n",
       "    </tr>\n",
       "    <tr>\n",
       "      <th>1</th>\n",
       "      <td>2</td>\n",
       "      <td>1</td>\n",
       "    </tr>\n",
       "    <tr>\n",
       "      <th>2</th>\n",
       "      <td>3</td>\n",
       "      <td>1</td>\n",
       "    </tr>\n",
       "    <tr>\n",
       "      <th>3</th>\n",
       "      <td>9</td>\n",
       "      <td>1</td>\n",
       "    </tr>\n",
       "    <tr>\n",
       "      <th>4</th>\n",
       "      <td>11</td>\n",
       "      <td>1</td>\n",
       "    </tr>\n",
       "  </tbody>\n",
       "</table>\n",
       "</div>"
      ],
      "text/plain": [
       "   id  target\n",
       "0   0       1\n",
       "1   2       1\n",
       "2   3       1\n",
       "3   9       1\n",
       "4  11       1"
      ]
     },
     "execution_count": 26,
     "metadata": {},
     "output_type": "execute_result"
    }
   ],
   "source": [
    "submission.head()"
   ]
  },
  {
   "cell_type": "markdown",
   "id": "451b4fd7",
   "metadata": {
    "papermill": {
     "duration": 0.016689,
     "end_time": "2023-08-14T13:35:59.089959",
     "exception": false,
     "start_time": "2023-08-14T13:35:59.073270",
     "status": "completed"
    },
    "tags": []
   },
   "source": []
  },
  {
   "cell_type": "markdown",
   "id": "df27270c",
   "metadata": {
    "papermill": {
     "duration": 0.017002,
     "end_time": "2023-08-14T13:35:59.123952",
     "exception": false,
     "start_time": "2023-08-14T13:35:59.106950",
     "status": "completed"
    },
    "tags": []
   },
   "source": []
  }
 ],
 "metadata": {
  "kernelspec": {
   "display_name": "Python 3",
   "language": "python",
   "name": "python3"
  },
  "language_info": {
   "codemirror_mode": {
    "name": "ipython",
    "version": 3
   },
   "file_extension": ".py",
   "mimetype": "text/x-python",
   "name": "python",
   "nbconvert_exporter": "python",
   "pygments_lexer": "ipython3",
   "version": "3.10.12"
  },
  "papermill": {
   "default_parameters": {},
   "duration": 31.09963,
   "end_time": "2023-08-14T13:36:00.470199",
   "environment_variables": {},
   "exception": null,
   "input_path": "__notebook__.ipynb",
   "output_path": "__notebook__.ipynb",
   "parameters": {},
   "start_time": "2023-08-14T13:35:29.370569",
   "version": "2.4.0"
  }
 },
 "nbformat": 4,
 "nbformat_minor": 5
}
